{
 "cells": [
  {
   "cell_type": "code",
   "execution_count": null,
   "metadata": {},
   "outputs": [],
   "source": [
    "from time import sleep\n",
    "import datetime\n",
    "import pyautogui\n",
    "from playsound import playsound\n",
    "from selenium import webdriver"
   ]
  },
  {
   "cell_type": "code",
   "execution_count": null,
   "metadata": {},
   "outputs": [],
   "source": [
    "# 클릭할 좌표를 찾는 함수(여기선 줌에 맞게 5번 이동)\n",
    "def find(URL):\n",
    "    \n",
    "    # 웹 드라이버 생성\n",
    "    driver = webdriver.Chrome()\n",
    "\n",
    "    # 링크 열기\n",
    "    driver.get(URL)\n",
    "\n",
    "    sleep(1.5)\n",
    "    position1 = pyautogui.position()\n",
    "    set_alarm()\n",
    "\n",
    "    sleep(5)\n",
    "    position2 = pyautogui.position()\n",
    "    set_alarm()\n",
    "\n",
    "    sleep(2)\n",
    "    position3 = pyautogui.position()\n",
    "    set_alarm()\n",
    "\n",
    "    sleep(2)\n",
    "    position4 = pyautogui.position()\n",
    "    set_alarm()\n",
    "\n",
    "    sleep(1)\n",
    "    position5 = pyautogui.position()\n",
    "    set_alarm()\n",
    "    set_alarm(seconds=1.5) # 마지막에는 두번 울림\n",
    "\n",
    "\n",
    "\n",
    "# 작성된 좌표를 기준으로 클릭을 해주는 함수, 링크넣아야 함\n",
    "def run(URL, position1,position2,position3,position4,position5):\n",
    "    # 웹 드라이버 생성\n",
    "    driver = webdriver.Chrome()\n",
    "\n",
    "    # 링크 열기\n",
    "    driver.get(URL)\n",
    "    sleep(1.5)\n",
    "\n",
    "    sleep(3)\n",
    "    pyautogui.click(position1)\n",
    "    set_alarm()\n",
    "\n",
    "    sleep(5)\n",
    "    pyautogui.click(position2)\n",
    "    set_alarm()\n",
    "\n",
    "    sleep(3)\n",
    "    pyautogui.click(position3)\n",
    "    set_alarm()\n",
    "\n",
    "    sleep(1.5)\n",
    "    pyautogui.click(position4)\n",
    "    set_alarm()\n",
    "\n",
    "    sleep(0.5)\n",
    "    pyautogui.click(position5)\n",
    "    set_alarm()\n",
    "\n",
    "\n",
    "\n",
    "# 소리로 알람을 울리는 함수(볼수없으니)\n",
    "def set_alarm(seconds=0):\n",
    "    sleep(seconds)\n",
    "    alarm_sound = \"../test/soundsrc/iphone_tri-tone.mp3\"  # 알람 소리 파일의 경로\n",
    "    playsound(alarm_sound)\n",
    "set_alarm(seconds=0)"
   ]
  },
  {
   "cell_type": "code",
   "execution_count": null,
   "metadata": {},
   "outputs": [],
   "source": [
    "###- 첫번째 코드 : 좌표를 딸 때 사용 -###\n",
    "\n",
    "# 링크\n",
    "URL = \"https://us06web.zoom.us/j/88625263122?pwd=lnJFbxDhLosQX50d6hMrIn12xnwwRe.1\"\n",
    "position1=0\n",
    "position2=0\n",
    "position3=0\n",
    "position4=0\n",
    "position5=0\n",
    "\n",
    "find(URL) # 실행시 위 링크 접속 후 다섯번의 좌표를 땀. 따고 나서 벨이 울림."
   ]
  },
  {
   "cell_type": "code",
   "execution_count": null,
   "metadata": {},
   "outputs": [],
   "source": [
    "###- 두번째 코드 : 좌표를 따고 난 뒤 특정 시간에 그 좌표를 순서대로 실행시킴 -###\n",
    "\n",
    "\n",
    "# 특정 함수를 실행할 시간 설정 (예: 오늘 18:30)\n",
    "hr = 18\n",
    "min = 30\n",
    "target_time = datetime.datetime(datetime.datetime.now().year, datetime.datetime.now().month, datetime.datetime.now().day, hr, min)\n",
    "\n",
    "# 현재 시간을 계속 확인하며 대기하고, 시간이 되면 특정 함수를 실행\n",
    "while True:\n",
    "    current_time = datetime.datetime.now()\n",
    "    if current_time >= target_time:\n",
    "        # 특정 함수를 실행하는 대신 여기에 원하는 동작을 수행하세요.\n",
    "        run(URL, position1, position2, position3, position4, position5)\n",
    "        break\n",
    "    else:\n",
    "        # 아직 시간이 아니면 잠시 대기\n",
    "        sleep(60)  # 60초(1분) 대기 후 다시 확인"
   ]
  },
  {
   "cell_type": "code",
   "execution_count": null,
   "metadata": {},
   "outputs": [],
   "source": [
    "# 이 위의 코드만 실행"
   ]
  },
  {
   "cell_type": "code",
   "execution_count": null,
   "metadata": {},
   "outputs": [],
   "source": [
    "# 작업실 & TODO"
   ]
  },
  {
   "cell_type": "code",
   "execution_count": 9,
   "metadata": {},
   "outputs": [
    {
     "name": "stdout",
     "output_type": "stream",
     "text": [
      "Zzz\n",
      "Zzz\n",
      "TIME IS OVER!!\n"
     ]
    }
   ],
   "source": [
    "###- 두번째 코드 : 좌표를 따고 난 뒤 특정 시간에 그 좌표를 순서대로 실행시킴 -###\n",
    "\n",
    "\n",
    "# 특정 함수를 실행할 시간 설정 (예: 오늘 18:30)\n",
    "hr = 14\n",
    "min = 10 ## 9분에 실행시키고 싶을 경우 09가 아닌 9임에 참고\n",
    "target_time = datetime.datetime(datetime.datetime.now().year, datetime.datetime.now().month, datetime.datetime.now().day, hr, min)\n",
    "\n",
    "# 현재 시간을 계속 확인하며 대기하고, 시간이 되면 특정 함수를 실행\n",
    "while True:\n",
    "    current_time = datetime.datetime.now()\n",
    "    if current_time >= target_time:\n",
    "        # 특정 함수를 실행하는 대신 여기에 원하는 동작을 수행하세요.\n",
    "        print(\"TIME IS OVER!!\")\n",
    "        break\n",
    "    else:\n",
    "        # 아직 시간이 아니면 잠시 대기\n",
    "        print(\"Zzz\")\n",
    "        sleep(10)  # 60초(1분) 대기 후 다시 확인"
   ]
  },
  {
   "cell_type": "code",
   "execution_count": null,
   "metadata": {},
   "outputs": [],
   "source": [
    "## TODO ##\n",
    "class Tag:\n",
    "    def __init__(self, scd=0, n=0):\n",
    "        self.scd = scd\n",
    "        self.n = n\n",
    "\n",
    "    def pos(self):\n",
    "        sleep(self.scd)\n",
    "        position = pyautogui.position()\n",
    "        self.set_alarm()\n",
    "        \n",
    "    def set_alarm(seconds=0):\n",
    "        sleep(seconds)\n",
    "        alarm_sound = \"../test/soundsrc/iphone_tri-tone.mp3\"  # 알람 소리 파일의 경로\n",
    "        playsound(alarm_sound)\n",
    "    set_alarm(seconds=0)\n",
    "\n",
    "# scd와 n 값을 지정하여 Tag 클래스를 인스턴스화합니다.\n",
    "scd = 2\n",
    "n = 5\n",
    "my_tag = Tag(scd, n)\n",
    "\n",
    "# pos 메서드를 호출하여 알람 설정과 위치 정보 가져오기를 수행합니다.\n",
    "my_tag.pos()"
   ]
  }
 ],
 "metadata": {
  "kernelspec": {
   "display_name": "Python 3",
   "language": "python",
   "name": "python3"
  },
  "language_info": {
   "codemirror_mode": {
    "name": "ipython",
    "version": 3
   },
   "file_extension": ".py",
   "mimetype": "text/x-python",
   "name": "python",
   "nbconvert_exporter": "python",
   "pygments_lexer": "ipython3",
   "version": "3.9.6"
  },
  "orig_nbformat": 4
 },
 "nbformat": 4,
 "nbformat_minor": 2
}
