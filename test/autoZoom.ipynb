{
 "cells": [
  {
   "cell_type": "code",
   "execution_count": 18,
   "metadata": {},
   "outputs": [],
   "source": [
    "import pyautogui\n",
    "\n",
    "from playsound import playsound\n",
    "from time import sleep\n",
    "\n",
    "from selenium import webdriver"
   ]
  },
  {
   "cell_type": "code",
   "execution_count": 26,
   "metadata": {},
   "outputs": [],
   "source": [
    "# 소리로 알람을 울리는 함수(볼수없으니)\n",
    "def set_alarm(seconds=0):\n",
    "    sleep(seconds)\n",
    "    alarm_sound = \"../test/soundsrc/iphone_tri-tone.mp3\"  # 알람 소리 파일의 경로\n",
    "    playsound(alarm_sound)\n",
    "2set_alarm(seconds=0)"
   ]
  },
  {
   "cell_type": "code",
   "execution_count": 23,
   "metadata": {},
   "outputs": [],
   "source": [
    "## TODO ##\n",
    "class Tag:\n",
    "    def __init__(self, scd=0, n=0):\n",
    "        self.scd = scd\n",
    "        self.n = n\n",
    "\n",
    "    def pos(self):\n",
    "        sleep(self.scd)\n",
    "        position = pyautogui.position()\n",
    "        self.set_alarm()\n",
    "\n",
    "    def set_alarm(self):\n",
    "        # 알람 설정 로직을 여기에 추가하세요\n",
    "        pass\n",
    "\n",
    "# scd와 n 값을 지정하여 Tag 클래스를 인스턴스화합니다.\n",
    "scd = 2\n",
    "n = 5\n",
    "my_tag = Tag(scd, n)\n",
    "\n",
    "# pos 메서드를 호출하여 알람 설정과 위치 정보 가져오기를 수행합니다.\n",
    "my_tag.pos()\n"
   ]
  },
  {
   "cell_type": "code",
   "execution_count": 27,
   "metadata": {},
   "outputs": [],
   "source": [
    "URL = \"https://us06web.zoom.us/j/89130565474?pwd=6ZUJX65b9WjlrkjHaGVI6O7rrtbtIe.1\"\n",
    "\n",
    "# 웹 드라이버 생성\n",
    "driver = webdriver.Chrome()\n",
    "\n",
    "# 링크 열기\n",
    "driver.get(URL)\n",
    "sleep(1.5)"
   ]
  },
  {
   "cell_type": "code",
   "execution_count": 28,
   "metadata": {},
   "outputs": [],
   "source": [
    "sleep(1.5)\n",
    "position1 = pyautogui.position()\n",
    "set_alarm()\n",
    "\n",
    "sleep(3)\n",
    "position2 = pyautogui.position()\n",
    "set_alarm()\n",
    "\n",
    "sleep(3)\n",
    "position3 = pyautogui.position()\n",
    "set_alarm()\n",
    "\n",
    "sleep(3)\n",
    "position4 = pyautogui.position()\n",
    "set_alarm()\n",
    "\n",
    "sleep(3)\n",
    "position5 = pyautogui.position()\n",
    "set_alarm()"
   ]
  },
  {
   "cell_type": "code",
   "execution_count": null,
   "metadata": {},
   "outputs": [],
   "source": [
    "position = pyautogui.position()"
   ]
  },
  {
   "cell_type": "code",
   "execution_count": null,
   "metadata": {},
   "outputs": [],
   "source": []
  },
  {
   "cell_type": "code",
   "execution_count": 29,
   "metadata": {},
   "outputs": [],
   "source": [
    "URL = \"https://us06web.zoom.us/j/89130565474?pwd=6ZUJX65b9WjlrkjHaGVI6O7rrtbtIe.1\"\n",
    "\n",
    "# 웹 드라이버 생성\n",
    "driver = webdriver.Chrome()\n",
    "\n",
    "# 링크 열기\n",
    "driver.get(URL)\n",
    "sleep(1.5)\n",
    "\n",
    "sleep(3)\n",
    "pyautogui.click(position1)\n",
    "set_alarm()\n",
    "\n",
    "sleep(5)\n",
    "pyautogui.click(position2)\n",
    "set_alarm()\n",
    "\n",
    "sleep(3)\n",
    "pyautogui.click(position3)\n",
    "set_alarm()\n",
    "\n",
    "sleep(1.5)\n",
    "pyautogui.click(position4)\n",
    "set_alarm()\n",
    "\n",
    "sleep(0.5)\n",
    "pyautogui.click(position5)\n",
    "set_alarm()"
   ]
  },
  {
   "cell_type": "code",
   "execution_count": null,
   "metadata": {},
   "outputs": [],
   "source": []
  }
 ],
 "metadata": {
  "kernelspec": {
   "display_name": "Python 3",
   "language": "python",
   "name": "python3"
  },
  "language_info": {
   "codemirror_mode": {
    "name": "ipython",
    "version": 3
   },
   "file_extension": ".py",
   "mimetype": "text/x-python",
   "name": "python",
   "nbconvert_exporter": "python",
   "pygments_lexer": "ipython3",
   "version": "3.9.6"
  },
  "orig_nbformat": 4
 },
 "nbformat": 4,
 "nbformat_minor": 2
}
